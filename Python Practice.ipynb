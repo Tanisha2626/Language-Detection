{
  "nbformat": 4,
  "nbformat_minor": 0,
  "metadata": {
    "colab": {
      "name": "Assignment1.ipynb",
      "provenance": [],
      "collapsed_sections": [],
      "authorship_tag": "ABX9TyMd+2yYskPjAUkC/U0pWjt2",
      "include_colab_link": true
    },
    "kernelspec": {
      "name": "python3",
      "display_name": "Python 3"
    },
    "language_info": {
      "name": "python"
    }
  },
  "cells": [
    {
      "cell_type": "markdown",
      "metadata": {
        "id": "view-in-github",
        "colab_type": "text"
      },
      "source": [
        "<a href=\"https://colab.research.google.com/github/Tanisha2626/Python-Tutorial/blob/main/Python%20Practice.ipynb\" target=\"_parent\"><img src=\"https://colab.research.google.com/assets/colab-badge.svg\" alt=\"Open In Colab\"/></a>"
      ]
    },
    {
      "cell_type": "code",
      "metadata": {
        "colab": {
          "base_uri": "https://localhost:8080/"
        },
        "id": "Quq86tEJqSpB",
        "outputId": "7eb3b1a1-57b6-4013-8491-7b36074ab75f"
      },
      "source": [
        "#complete the program below\n",
        "def calculate_sum(N):\n",
        "    #you can use the varibale N in your code\n",
        "    #initialise this variable to required value\n",
        "    sum_digits = 0\n",
        "    while N!=0:\n",
        "              sum_digits=sum_digits+(N%10)\n",
        "              N//=10\n",
        "    #write the code to calculate sum here. Hint - use can use loops\n",
        "    \n",
        "    return sum_digits\n",
        "\n",
        "#do not change this\n",
        "print(calculate_sum(1234567))\n",
        "print(calculate_sum(9900))"
      ],
      "execution_count": null,
      "outputs": [
        {
          "output_type": "stream",
          "text": [
            "28\n",
            "18\n"
          ],
          "name": "stdout"
        }
      ]
    },
    {
      "cell_type": "code",
      "metadata": {
        "colab": {
          "base_uri": "https://localhost:8080/"
        },
        "id": "Cxe0OE0FsxVb",
        "outputId": "2df9736b-e866-408b-80b9-aadb0c8977eb"
      },
      "source": [
        "#complete the program below\n",
        "def calculate_fac(N):\n",
        "    #you can use the varibale N in your code\n",
        "    #initialise this variable to required value\n",
        "    factorial = 1\n",
        "    \n",
        "    #write the code to calculate factorial here. \n",
        "    while N!=0:\n",
        "      factorial=N*factorial\n",
        "      N-=1\n",
        "    '''Some of you may have previous experience with coding and take different approach to solve \n",
        "    this problem. In that case, you can alter the code in this cell whihchever way you want but \n",
        "    the expected output should be generated for you to get a point'''\n",
        "    \n",
        "    return factorial\n",
        "\n",
        "#do not change this code\n",
        "print(calculate_fac(0))\n",
        "print(calculate_fac(12))\n"
      ],
      "execution_count": null,
      "outputs": [
        {
          "output_type": "stream",
          "text": [
            "1\n",
            "479001600\n"
          ],
          "name": "stdout"
        }
      ]
    },
    {
      "cell_type": "code",
      "metadata": {
        "colab": {
          "base_uri": "https://localhost:8080/"
        },
        "id": "5r3xSrUqtlnf",
        "outputId": "24f2ace8-505e-41f2-c254-ce662aecacd9"
      },
      "source": [
        "#complete the program below\n",
        "def is_ready(N, Weapons):\n",
        "    #you can use the varibales N and Weapons in your code\n",
        "    \n",
        "    #write the code here. \n",
        "    lucky_soldier=0\n",
        "    unlucky_soldier=0\n",
        "    for weapon in Weapons:\n",
        "      if weapon%2==0:\n",
        "        lucky_soldier+=1\n",
        "      else :\n",
        "        unlucky_soldier+=1\n",
        "    if lucky_soldier>unlucky_soldier:\n",
        "      print(\"READY FOR BATTLE\")\n",
        "    else :\n",
        "      print(\"NOT READY\")\n",
        "    '''Some of you may have previous experience with coding and take different approach to solve \n",
        "    this problem. In that case, you can alter the code in this cell whihchever way you want but \n",
        "    the expected output should be generated for you to get a point'''\n",
        "    \n",
        "    #Print the final answer too!\n",
        "#do not change this code\n",
        "is_ready(6, [1, 2, 3, 4, 5, 6])\n",
        "is_ready(4, [20, 24, 25, 228])"
      ],
      "execution_count": null,
      "outputs": [
        {
          "output_type": "stream",
          "text": [
            "NOT READY\n",
            "READY FOR BATTLE\n"
          ],
          "name": "stdout"
        }
      ]
    },
    {
      "cell_type": "code",
      "metadata": {
        "colab": {
          "base_uri": "https://localhost:8080/"
        },
        "id": "A-F-VCLHwJhm",
        "outputId": "5f74161b-da54-46f4-98de-daec368f147d"
      },
      "source": [
        "#complete the program below\n",
        "def all_happy(N, C, candies):\n",
        "    #you can use the varibales N, C and candies in your code\n",
        "    \n",
        "    #write the code here.\n",
        "    sum=0\n",
        "    for candy in candies:\n",
        "      sum+=candy\n",
        "    else:\n",
        "      if sum>C:\n",
        "        print(\"No\")\n",
        "      else:\n",
        "        print(\"Yes\")\n",
        "    '''Some of you may have previous experience with coding and take different approach to solve \n",
        "    this problem. In that case, you can alter the code in this cell whihchever way you want but \n",
        "    the expected output should be generated for you to get a point'''\n",
        "    \n",
        "    #Print the final answer too!\n",
        "#do not change this code\n",
        "all_happy(6, 8, [1, 1, 2, 2, 1, 2])\n",
        "all_happy(5, 575, [0, 110, 120, 130, 140])"
      ],
      "execution_count": null,
      "outputs": [
        {
          "output_type": "stream",
          "text": [
            "No\n",
            "Yes\n"
          ],
          "name": "stdout"
        }
      ]
    },
    {
      "cell_type": "code",
      "metadata": {
        "colab": {
          "base_uri": "https://localhost:8080/"
        },
        "id": "jv37hSacy6Sv",
        "outputId": "b7b84f41-fe1c-47ff-9758-f911721f726a"
      },
      "source": [
        "#complete the program below\n",
        "def social_dist(N, queue):\n",
        "    #you can use the varibales N and queue in your code\n",
        "    boolean=True\n",
        "    #write the code here. Hint: use int(), str() etc for data type conversion if required for accessing dictionary values\n",
        "    for q in queue:\n",
        "      if queue[q]==1:\n",
        "        i=1\n",
        "        while i!=6:\n",
        "          k=int(q)+i\n",
        "          if k<=N:\n",
        "            if queue[str(k)]==1:\n",
        "              boolean=False\n",
        "          i+=1\n",
        "    if boolean==True:\n",
        "      print(\"Yes\")\n",
        "    else:\n",
        "      print(\"No\")\n",
        "          \n",
        "\n",
        "  \n",
        "    '''Some of you may have previous experience with coding and take different approach to solve \n",
        "    this problem. In that case, you can alter the code in this cell whihchever way you want but \n",
        "    the expected output should be generated for you to get a point'''\n",
        "    \n",
        "    #Print the final answer too!\n",
        "#do not change this code\n",
        "queue1 = {'1':1, '2':0, '3':0, '4':0, '5':1}\n",
        "social_dist(5, queue1)\n",
        "\n",
        "queue2 = {'1':0, '2':0, '3':1, '4':0, '5':0, '6':0, '7':0, '8':0, '9':1, '10':0}\n",
        "social_dist(10, queue2)"
      ],
      "execution_count": null,
      "outputs": [
        {
          "output_type": "stream",
          "text": [
            "No\n",
            "Yes\n"
          ],
          "name": "stdout"
        }
      ]
    }
  ]
}