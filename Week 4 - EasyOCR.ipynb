{
  "nbformat": 4,
  "nbformat_minor": 0,
  "metadata": {
    "colab": {
      "name": "EasyOCR.ipynb",
      "provenance": [],
      "authorship_tag": "ABX9TyMxLw1JZjyW9Dga0kNlPp8j",
      "include_colab_link": true
    },
    "kernelspec": {
      "name": "python3",
      "display_name": "Python 3"
    },
    "language_info": {
      "name": "python"
    }
  },
  "cells": [
    {
      "cell_type": "markdown",
      "metadata": {
        "id": "view-in-github",
        "colab_type": "text"
      },
      "source": [
        "<a href=\"https://colab.research.google.com/github/Tanisha2626/Language-Detection-SoC-/blob/main/EasyOCR.ipynb\" target=\"_parent\"><img src=\"https://colab.research.google.com/assets/colab-badge.svg\" alt=\"Open In Colab\"/></a>"
      ]
    },
    {
      "cell_type": "code",
      "metadata": {
        "colab": {
          "base_uri": "https://localhost:8080/"
        },
        "id": "MZDMOnSyBwIO",
        "outputId": "dac746c6-9067-428f-d08d-a87e77cbb139"
      },
      "source": [
        "!pip install easyocr\n"
      ],
      "execution_count": 1,
      "outputs": [
        {
          "output_type": "stream",
          "text": [
            "Collecting easyocr\n",
            "\u001b[?25l  Downloading https://files.pythonhosted.org/packages/9d/b4/6a402a7ec3890e94313a7d2804190713e2c942371b39c7ccd9070280bc36/easyocr-1.3.2-py3-none-any.whl (63.2MB)\n",
            "\u001b[K     |████████████████████████████████| 63.2MB 48kB/s \n",
            "\u001b[?25hRequirement already satisfied: torch in /usr/local/lib/python3.7/dist-packages (from easyocr) (1.9.0+cu102)\n",
            "Collecting python-bidi\n",
            "  Downloading https://files.pythonhosted.org/packages/33/b0/f942d146a2f457233baaafd6bdf624eba8e0f665045b4abd69d1b62d097d/python_bidi-0.4.2-py2.py3-none-any.whl\n",
            "Requirement already satisfied: numpy in /usr/local/lib/python3.7/dist-packages (from easyocr) (1.19.5)\n",
            "Requirement already satisfied: scipy in /usr/local/lib/python3.7/dist-packages (from easyocr) (1.4.1)\n",
            "Requirement already satisfied: scikit-image in /usr/local/lib/python3.7/dist-packages (from easyocr) (0.16.2)\n",
            "Requirement already satisfied: PyYAML in /usr/local/lib/python3.7/dist-packages (from easyocr) (3.13)\n",
            "Requirement already satisfied: Pillow in /usr/local/lib/python3.7/dist-packages (from easyocr) (7.1.2)\n",
            "Requirement already satisfied: torchvision>=0.5 in /usr/local/lib/python3.7/dist-packages (from easyocr) (0.10.0+cu102)\n",
            "Requirement already satisfied: opencv-python in /usr/local/lib/python3.7/dist-packages (from easyocr) (4.1.2.30)\n",
            "Requirement already satisfied: typing-extensions in /usr/local/lib/python3.7/dist-packages (from torch->easyocr) (3.7.4.3)\n",
            "Requirement already satisfied: six in /usr/local/lib/python3.7/dist-packages (from python-bidi->easyocr) (1.15.0)\n",
            "Requirement already satisfied: imageio>=2.3.0 in /usr/local/lib/python3.7/dist-packages (from scikit-image->easyocr) (2.4.1)\n",
            "Requirement already satisfied: matplotlib!=3.0.0,>=2.0.0 in /usr/local/lib/python3.7/dist-packages (from scikit-image->easyocr) (3.2.2)\n",
            "Requirement already satisfied: networkx>=2.0 in /usr/local/lib/python3.7/dist-packages (from scikit-image->easyocr) (2.5.1)\n",
            "Requirement already satisfied: PyWavelets>=0.4.0 in /usr/local/lib/python3.7/dist-packages (from scikit-image->easyocr) (1.1.1)\n",
            "Requirement already satisfied: kiwisolver>=1.0.1 in /usr/local/lib/python3.7/dist-packages (from matplotlib!=3.0.0,>=2.0.0->scikit-image->easyocr) (1.3.1)\n",
            "Requirement already satisfied: python-dateutil>=2.1 in /usr/local/lib/python3.7/dist-packages (from matplotlib!=3.0.0,>=2.0.0->scikit-image->easyocr) (2.8.1)\n",
            "Requirement already satisfied: cycler>=0.10 in /usr/local/lib/python3.7/dist-packages (from matplotlib!=3.0.0,>=2.0.0->scikit-image->easyocr) (0.10.0)\n",
            "Requirement already satisfied: pyparsing!=2.0.4,!=2.1.2,!=2.1.6,>=2.0.1 in /usr/local/lib/python3.7/dist-packages (from matplotlib!=3.0.0,>=2.0.0->scikit-image->easyocr) (2.4.7)\n",
            "Requirement already satisfied: decorator<5,>=4.3 in /usr/local/lib/python3.7/dist-packages (from networkx>=2.0->scikit-image->easyocr) (4.4.2)\n",
            "Installing collected packages: python-bidi, easyocr\n",
            "Successfully installed easyocr-1.3.2 python-bidi-0.4.2\n"
          ],
          "name": "stdout"
        }
      ]
    },
    {
      "cell_type": "code",
      "metadata": {
        "id": "vDRZZdmDByaT"
      },
      "source": [
        "import matplotlib.pyplot as plt\n",
        "import cv2\n",
        "import easyocr\n",
        "from pylab import rcParams\n",
        "from IPython.display import Image\n",
        "rcParams['figure.figsize'] = 4, 4"
      ],
      "execution_count": 8,
      "outputs": []
    },
    {
      "cell_type": "code",
      "metadata": {
        "colab": {
          "base_uri": "https://localhost:8080/"
        },
        "id": "B_OfGgHPB2sL",
        "outputId": "a902f90a-237c-485f-f5cb-cf4828503594"
      },
      "source": [
        "reader = easyocr.Reader(['en','hi'])\n"
      ],
      "execution_count": 4,
      "outputs": [
        {
          "output_type": "stream",
          "text": [
            "CUDA not available - defaulting to CPU. Note: This module is much faster with a GPU.\n",
            "Downloading recognition model, please wait. This may take several minutes depending upon your network connection.\n"
          ],
          "name": "stderr"
        },
        {
          "output_type": "stream",
          "text": [
            ""
          ],
          "name": "stdout"
        }
      ]
    },
    {
      "cell_type": "code",
      "metadata": {
        "colab": {
          "base_uri": "https://localhost:8080/"
        },
        "id": "iZzBiu3jCMLM",
        "outputId": "4d76d612-52d1-4c96-d235-b71692e50f9d"
      },
      "source": [
        "Image(\"text1.jpg\")\n",
        "reader.readtext('text1.jpg')\n"
      ],
      "execution_count": 13,
      "outputs": [
        {
          "output_type": "stream",
          "text": [
            "/usr/local/lib/python3.7/dist-packages/torch/nn/functional.py:718: UserWarning: Named tensors and all their associated APIs are an experimental feature and subject to change. Please do not use them for anything important until they are released as stable. (Triggered internally at  /pytorch/c10/core/TensorImpl.h:1156.)\n",
            "  return torch.max_pool2d(input, kernel_size, stride, padding, dilation, ceil_mode)\n"
          ],
          "name": "stderr"
        },
        {
          "output_type": "execute_result",
          "data": {
            "text/plain": [
              "[([[362, 16], [961, 16], [961, 112], [362, 112]],\n",
              "  'AT THE BEACH',\n",
              "  0.6969956588637293),\n",
              " ([[356, 134], [1158, 134], [1158, 182], [356, 182]],\n",
              "  'The beach is fun! Some people swim in the water',\n",
              "  0.7145849351518374),\n",
              " ([[357, 209], [1183, 209], [1183, 254], [357, 254]],\n",
              "  'see who is the fastest. The winner gets a surfboard.',\n",
              "  0.5901038701890073),\n",
              " ([[357, 280], [925, 280], [925, 325], [357, 325]],\n",
              "  'Some people lie down on the sand.',\n",
              "  0.6884409924147413),\n",
              " ([[1019, 281], [1237, 281], [1237, 319], [1019, 319]],\n",
              "  'want to relax.',\n",
              "  0.6907908138669686),\n",
              " ([[357, 353], [803, 353], [803, 391], [357, 391]],\n",
              "  'The kids make sandcastles.',\n",
              "  0.757215772528798),\n",
              " ([[896, 350], [1148, 350], [1148, 398], [896, 398]],\n",
              "  'try to make the',\n",
              "  0.9890048764434386),\n",
              " ([[356, 422], [1122, 422], [1122, 470], [356, 470]],\n",
              "  'castles big and tall. Later the water washes the',\n",
              "  0.7025631978075059),\n",
              " ([[356, 494], [1068, 494], [1068, 542], [356, 542]],\n",
              "  'sandcastles away The kids make new ones.',\n",
              "  0.7417865094207456),\n",
              " ([[382, 592], [992, 592], [992, 664], [382, 664]],\n",
              "  'LOTSOF ENGLISH TEXTS',\n",
              "  0.9618843688454444),\n",
              " ([[1043, 597], [1235, 597], [1235, 665], [1043, 665]],\n",
              "  'You Tube',\n",
              "  0.48788958737616883),\n",
              " ([[1161.9378517783448, 128.114118180386],\n",
              "   [1253.7590412191041, 140.46653116273313],\n",
              "   [1246.0621482216552, 183.885881819614],\n",
              "   [1154.2409587808959, 172.53346883726687]],\n",
              "  'They',\n",
              "  0.8228696243556369),\n",
              " ([[929.9378517783448, 272.114118180386],\n",
              "   [1020.7539913431704, 284.45094664098946],\n",
              "   [1013.0621482216552, 327.885881819614],\n",
              "   [922.2460086568296, 316.54905335901054]],\n",
              "  'They',\n",
              "  0.6017053148055931),\n",
              " ([[811.9378517783448, 344.114118180386],\n",
              "   [902.7539913431704, 356.45094664098946],\n",
              "   [895.0621482216552, 399.885881819614],\n",
              "   [804.2460086568296, 388.54905335901054]],\n",
              "  'They',\n",
              "  0.38684525984748)]"
            ]
          },
          "metadata": {
            "tags": []
          },
          "execution_count": 13
        }
      ]
    },
    {
      "cell_type": "code",
      "metadata": {
        "id": "hSR9NIGJCDNP"
      },
      "source": [
        "Image(\"text2.jpg\")\n",
        "output = reader.readtext('text2.jpg')\n"
      ],
      "execution_count": 14,
      "outputs": []
    },
    {
      "cell_type": "code",
      "metadata": {
        "colab": {
          "base_uri": "https://localhost:8080/"
        },
        "id": "AEkv3ms5DY-n",
        "outputId": "21c14a12-6cfc-47f6-e1b9-85dd5bcaa5ff"
      },
      "source": [
        "output"
      ],
      "execution_count": 16,
      "outputs": [
        {
          "output_type": "execute_result",
          "data": {
            "text/plain": [
              "[([[61, 85], [203, 85], [203, 121], [61, 121]], 'Exmaples', 0.634873469703278),\n",
              " ([[58, 118], [294, 118], [294, 148], [58, 148]],\n",
              "  'je mange un sandwich',\n",
              "  0.7584421321213757),\n",
              " ([[60, 146], [246, 146], [246, 172], [60, 172]],\n",
              "  'il adore son chien',\n",
              "  0.6199533559565983),\n",
              " ([[60, 174], [344, 174], [344, 202], [60, 202]],\n",
              "  'nous apprenons e francais',\n",
              "  0.7284973902622419),\n",
              " ([[58, 200], [322, 200], [322, 230], [58, 230]],\n",
              "  'le chat mange le poisson',\n",
              "  0.6264348607864079),\n",
              " ([[60, 228], [270, 228], [270, 254], [60, 254]],\n",
              "  'tu bois un coca cola',\n",
              "  0.724699592278852),\n",
              " ([[325, 285], [469, 285], [469, 301], [325, 301]],\n",
              "  'LearFrench Vidao Com',\n",
              "  0.28984441639974623)]"
            ]
          },
          "metadata": {
            "tags": []
          },
          "execution_count": 16
        }
      ]
    },
    {
      "cell_type": "code",
      "metadata": {
        "id": "Wdv1sf8XCPrc"
      },
      "source": [
        "Image(\"text3.jpg\")\n",
        "output = reader.readtext('text3.jpg')\n"
      ],
      "execution_count": 15,
      "outputs": []
    },
    {
      "cell_type": "code",
      "metadata": {
        "colab": {
          "base_uri": "https://localhost:8080/"
        },
        "id": "KrZ4BhYxDb7s",
        "outputId": "3fdb4f06-10e8-47f4-cae4-4529e38c775f"
      },
      "source": [
        "output"
      ],
      "execution_count": 17,
      "outputs": [
        {
          "output_type": "execute_result",
          "data": {
            "text/plain": [
              "[([[61, 85], [203, 85], [203, 121], [61, 121]], 'Exmaples', 0.634873469703278),\n",
              " ([[58, 118], [294, 118], [294, 148], [58, 148]],\n",
              "  'je mange un sandwich',\n",
              "  0.7584421321213757),\n",
              " ([[60, 146], [246, 146], [246, 172], [60, 172]],\n",
              "  'il adore son chien',\n",
              "  0.6199533559565983),\n",
              " ([[60, 174], [344, 174], [344, 202], [60, 202]],\n",
              "  'nous apprenons e francais',\n",
              "  0.7284973902622419),\n",
              " ([[58, 200], [322, 200], [322, 230], [58, 230]],\n",
              "  'le chat mange le poisson',\n",
              "  0.6264348607864079),\n",
              " ([[60, 228], [270, 228], [270, 254], [60, 254]],\n",
              "  'tu bois un coca cola',\n",
              "  0.724699592278852),\n",
              " ([[325, 285], [469, 285], [469, 301], [325, 301]],\n",
              "  'LearFrench Vidao Com',\n",
              "  0.28984441639974623)]"
            ]
          },
          "metadata": {
            "tags": []
          },
          "execution_count": 17
        }
      ]
    }
  ]
}
