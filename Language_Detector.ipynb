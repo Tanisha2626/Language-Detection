{
  "nbformat": 4,
  "nbformat_minor": 0,
  "metadata": {
    "colab": {
      "name": "Language_Detector.ipynb",
      "provenance": [],
      "collapsed_sections": [],
      "authorship_tag": "ABX9TyNLRMzar8eiZ0UvwrfRsZZc",
      "include_colab_link": true
    },
    "kernelspec": {
      "name": "python3",
      "display_name": "Python 3"
    },
    "language_info": {
      "name": "python"
    }
  },
  "cells": [
    {
      "cell_type": "markdown",
      "metadata": {
        "id": "view-in-github",
        "colab_type": "text"
      },
      "source": [
        "<a href=\"https://colab.research.google.com/github/Tanisha2626/Language-Detection-SoC-/blob/main/Language_Detector.ipynb\" target=\"_parent\"><img src=\"https://colab.research.google.com/assets/colab-badge.svg\" alt=\"Open In Colab\"/></a>"
      ]
    },
    {
      "cell_type": "code",
      "metadata": {
        "id": "aKDtozKGXQT5",
        "colab": {
          "base_uri": "https://localhost:8080/"
        },
        "outputId": "3e849878-9b37-4edf-9cd8-ed757d50fee1"
      },
      "source": [
        "#importing important libraries \n",
        "import pandas as pd\n",
        "\n",
        "import re\n",
        "\n",
        "import nltk\n",
        "\n",
        "from nltk.stem.porter import PorterStemmer\n",
        "\n",
        "from sklearn.metrics import accuracy_score,confusion_matrix\n",
        "\n",
        "!pip install easyocr\n",
        "\n",
        "import matplotlib.pyplot as plt\n",
        "\n",
        "import cv2\n",
        "\n",
        "import easyocr"
      ],
      "execution_count": 1,
      "outputs": [
        {
          "output_type": "stream",
          "text": [
            "Collecting easyocr\n",
            "\u001b[?25l  Downloading https://files.pythonhosted.org/packages/9d/b4/6a402a7ec3890e94313a7d2804190713e2c942371b39c7ccd9070280bc36/easyocr-1.3.2-py3-none-any.whl (63.2MB)\n",
            "\u001b[K     |████████████████████████████████| 63.2MB 46kB/s \n",
            "\u001b[?25hRequirement already satisfied: scipy in /usr/local/lib/python3.7/dist-packages (from easyocr) (1.4.1)\n",
            "Requirement already satisfied: PyYAML in /usr/local/lib/python3.7/dist-packages (from easyocr) (3.13)\n",
            "Requirement already satisfied: opencv-python in /usr/local/lib/python3.7/dist-packages (from easyocr) (4.1.2.30)\n",
            "Requirement already satisfied: numpy in /usr/local/lib/python3.7/dist-packages (from easyocr) (1.19.5)\n",
            "Requirement already satisfied: torchvision>=0.5 in /usr/local/lib/python3.7/dist-packages (from easyocr) (0.10.0+cu102)\n",
            "Requirement already satisfied: Pillow in /usr/local/lib/python3.7/dist-packages (from easyocr) (7.1.2)\n",
            "Requirement already satisfied: scikit-image in /usr/local/lib/python3.7/dist-packages (from easyocr) (0.16.2)\n",
            "Collecting python-bidi\n",
            "  Downloading https://files.pythonhosted.org/packages/33/b0/f942d146a2f457233baaafd6bdf624eba8e0f665045b4abd69d1b62d097d/python_bidi-0.4.2-py2.py3-none-any.whl\n",
            "Requirement already satisfied: torch in /usr/local/lib/python3.7/dist-packages (from easyocr) (1.9.0+cu102)\n",
            "Requirement already satisfied: imageio>=2.3.0 in /usr/local/lib/python3.7/dist-packages (from scikit-image->easyocr) (2.4.1)\n",
            "Requirement already satisfied: networkx>=2.0 in /usr/local/lib/python3.7/dist-packages (from scikit-image->easyocr) (2.5.1)\n",
            "Requirement already satisfied: PyWavelets>=0.4.0 in /usr/local/lib/python3.7/dist-packages (from scikit-image->easyocr) (1.1.1)\n",
            "Requirement already satisfied: matplotlib!=3.0.0,>=2.0.0 in /usr/local/lib/python3.7/dist-packages (from scikit-image->easyocr) (3.2.2)\n",
            "Requirement already satisfied: six in /usr/local/lib/python3.7/dist-packages (from python-bidi->easyocr) (1.15.0)\n",
            "Requirement already satisfied: typing-extensions in /usr/local/lib/python3.7/dist-packages (from torch->easyocr) (3.7.4.3)\n",
            "Requirement already satisfied: decorator<5,>=4.3 in /usr/local/lib/python3.7/dist-packages (from networkx>=2.0->scikit-image->easyocr) (4.4.2)\n",
            "Requirement already satisfied: python-dateutil>=2.1 in /usr/local/lib/python3.7/dist-packages (from matplotlib!=3.0.0,>=2.0.0->scikit-image->easyocr) (2.8.1)\n",
            "Requirement already satisfied: kiwisolver>=1.0.1 in /usr/local/lib/python3.7/dist-packages (from matplotlib!=3.0.0,>=2.0.0->scikit-image->easyocr) (1.3.1)\n",
            "Requirement already satisfied: pyparsing!=2.0.4,!=2.1.2,!=2.1.6,>=2.0.1 in /usr/local/lib/python3.7/dist-packages (from matplotlib!=3.0.0,>=2.0.0->scikit-image->easyocr) (2.4.7)\n",
            "Requirement already satisfied: cycler>=0.10 in /usr/local/lib/python3.7/dist-packages (from matplotlib!=3.0.0,>=2.0.0->scikit-image->easyocr) (0.10.0)\n",
            "Installing collected packages: python-bidi, easyocr\n",
            "Successfully installed easyocr-1.3.2 python-bidi-0.4.2\n"
          ],
          "name": "stdout"
        }
      ]
    },
    {
      "cell_type": "markdown",
      "metadata": {
        "id": "_kx6LIJlHIdp"
      },
      "source": [
        ""
      ]
    },
    {
      "cell_type": "code",
      "metadata": {
        "id": "OMWlDN00XZ26"
      },
      "source": [
        "#reading the data set \n",
        "\n",
        "data_set=pd.read_csv('dataset.csv')"
      ],
      "execution_count": 2,
      "outputs": []
    },
    {
      "cell_type": "markdown",
      "metadata": {
        "id": "858LwtUvHJfg"
      },
      "source": [
        ""
      ]
    },
    {
      "cell_type": "code",
      "metadata": {
        "id": "1hXJVelD-1RF"
      },
      "source": [
        "#creating a fuction to clean and stem text \n",
        "\n",
        "\n",
        "def text_cleaner(sentence):\n",
        "  ps = PorterStemmer()\n",
        "  sentence = re.sub('[^a-zA-Z]', ' ', sentence)\n",
        "  sentence = sentence.lower()\n",
        "  sentence = sentence.split()\n",
        "  sentence = [ps.stem(word) for word in sentence ]\n",
        "  sentence = ' '.join(sentence)\n",
        "  return sentence"
      ],
      "execution_count": 13,
      "outputs": []
    },
    {
      "cell_type": "markdown",
      "metadata": {
        "id": "TxUghXymHK8k"
      },
      "source": [
        ""
      ]
    },
    {
      "cell_type": "code",
      "metadata": {
        "id": "wvhrxgK_xsDG",
        "colab": {
          "base_uri": "https://localhost:8080/"
        },
        "outputId": "3eaf4dfd-ca3b-4070-9715-bd9d5aff4178"
      },
      "source": [
        "#Cleaning the text and stemming the words using nltk library\n",
        "\n",
        "ps = PorterStemmer()\n",
        "for i in range(0, len(data_set)):\n",
        "  data_set['languages'][i]=text_cleaner(data_set['languages'][i])\n",
        "\n",
        "    "
      ],
      "execution_count": 14,
      "outputs": [
        {
          "output_type": "stream",
          "text": [
            "/usr/local/lib/python3.7/dist-packages/ipykernel_launcher.py:5: SettingWithCopyWarning: \n",
            "A value is trying to be set on a copy of a slice from a DataFrame\n",
            "\n",
            "See the caveats in the documentation: https://pandas.pydata.org/pandas-docs/stable/user_guide/indexing.html#returning-a-view-versus-a-copy\n",
            "  \"\"\"\n"
          ],
          "name": "stderr"
        }
      ]
    },
    {
      "cell_type": "markdown",
      "metadata": {
        "id": "QH6k7J01HLs1"
      },
      "source": [
        ""
      ]
    },
    {
      "cell_type": "code",
      "metadata": {
        "id": "O_O-hi4Affmw"
      },
      "source": [
        "# shuffling the Data Set rows \n",
        "\n",
        "data_shuffled = data_set.sample(frac = 1) "
      ],
      "execution_count": 15,
      "outputs": []
    },
    {
      "cell_type": "markdown",
      "metadata": {
        "id": "v_-IiO7oHNeK"
      },
      "source": [
        ""
      ]
    },
    {
      "cell_type": "code",
      "metadata": {
        "id": "_a8qG4czf5Xd"
      },
      "source": [
        "#creating sample input and sample output for the model\n",
        "\n",
        "x_sample=data_shuffled['languages']\n",
        "y_sample=data_shuffled['label ']"
      ],
      "execution_count": 16,
      "outputs": []
    },
    {
      "cell_type": "markdown",
      "metadata": {
        "id": "tI0kVCVYHPro"
      },
      "source": [
        ""
      ]
    },
    {
      "cell_type": "code",
      "metadata": {
        "id": "eXi0aEqtf7E0"
      },
      "source": [
        "#Creating the sample and test cases\n",
        "\n",
        "from sklearn.model_selection import train_test_split\n",
        "x_train,x_test,y_train,y_test=train_test_split(x_sample,y_sample,test_size=1,random_state=0)"
      ],
      "execution_count": 17,
      "outputs": []
    },
    {
      "cell_type": "markdown",
      "metadata": {
        "id": "ICIbXRG5HQQH"
      },
      "source": [
        ""
      ]
    },
    {
      "cell_type": "code",
      "metadata": {
        "id": "3FLdckANf8X7"
      },
      "source": [
        "#converting the cases into vectors\n",
        "\n",
        "from sklearn.feature_extraction.text import CountVectorizer,TfidfVectorizer\n",
        "cv=CountVectorizer(5000)\n",
        "x_trained=cv.fit_transform(x_train).toarray()\n",
        "x_tested=cv.transform(x_test).toarray()"
      ],
      "execution_count": 18,
      "outputs": []
    },
    {
      "cell_type": "markdown",
      "metadata": {
        "id": "l65H4jNmHQyN"
      },
      "source": [
        ""
      ]
    },
    {
      "cell_type": "code",
      "metadata": {
        "id": "ACAJXr1lf-cU"
      },
      "source": [
        "#creating the model\n",
        "\n",
        "from sklearn.naive_bayes import MultinomialNB\n",
        "language_detector = MultinomialNB().fit(x_trained, y_train)"
      ],
      "execution_count": 19,
      "outputs": []
    },
    {
      "cell_type": "markdown",
      "metadata": {
        "id": "9btzrMRPHRRe"
      },
      "source": [
        ""
      ]
    },
    {
      "cell_type": "code",
      "metadata": {
        "colab": {
          "base_uri": "https://localhost:8080/"
        },
        "id": "nT7gniIo6vI2",
        "outputId": "33068b3a-a052-42e2-a7a0-d9d994ba34eb"
      },
      "source": [
        "#checking the accracy score of the model\n",
        "\n",
        "y_predicted=language_detector.predict(x_tested)\n",
        "\n",
        "print('accuracy of the model is {}'.format(accuracy_score(y_test,y_predicted)))\n",
        "print('Confusion matrix of the model is {}'.format(confusion_matrix(y_test,y_predicted)))"
      ],
      "execution_count": 20,
      "outputs": [
        {
          "output_type": "stream",
          "text": [
            "accuracy of the model is 1.0\n",
            "Confusion matrix of the model is [[1]]\n"
          ],
          "name": "stdout"
        }
      ]
    },
    {
      "cell_type": "markdown",
      "metadata": {
        "id": "kVv6CeecHSJU"
      },
      "source": [
        ""
      ]
    },
    {
      "cell_type": "code",
      "metadata": {
        "colab": {
          "base_uri": "https://localhost:8080/"
        },
        "id": "miPVuzOIgALL",
        "outputId": "c971e2b7-bafa-4b8e-d9c5-ba2b7b9c3928"
      },
      "source": [
        "#testing the model\n",
        "\n",
        "\n",
        "text=['शब्दों का ऐसा समूह जिससे पूर्ण भाव व्यक्त हो',\n",
        "      'Je suis américain.',\n",
        "      'a pack of cards']\n",
        "\n",
        "for text_sample in text:\n",
        "  text_cleaner(text_sample)\n",
        "  vector=cv.transform([text_sample]).toarray()\n",
        "  prediction=language_detector.predict(vector)\n",
        "  \n",
        "\n",
        "  if prediction[0]==0:\n",
        "      print('English')\n",
        "  elif prediction[0]==1:\n",
        "      print('Hindi')\n",
        "\n",
        "  else:\n",
        "      print('french') "
      ],
      "execution_count": 23,
      "outputs": [
        {
          "output_type": "stream",
          "text": [
            "Hindi\n",
            "french\n",
            "English\n"
          ],
          "name": "stdout"
        }
      ]
    },
    {
      "cell_type": "markdown",
      "metadata": {
        "id": "ZfVR9mIzHTRW"
      },
      "source": [
        ""
      ]
    },
    {
      "cell_type": "code",
      "metadata": {
        "id": "pQ_NCth9kgo_"
      },
      "source": [
        "#extracting text from images and detecting its language\n",
        "\n",
        "\n",
        "def prediction_from_image(input):\n",
        "    \n",
        "    reader = easyocr.Reader(['en'])\n",
        "    \n",
        "    output = reader.readtext(input,detail=0)\n",
        "\n",
        "    sentence=' '.join(output)\n",
        "\n",
        "    text_cleaner(sentence)\n",
        "\n",
        "    vector=cv.transform([sentence]).toarray()\n",
        "\n",
        "    prediction=language_detector.predict(vector)\n",
        "\n",
        "    if prediction[0]==0:\n",
        "     print('English')\n",
        "    elif prediction[0]==1:\n",
        "      print('Hindi')\n",
        "    else:\n",
        "      print('French')\n",
        "    return \n",
        "\n"
      ],
      "execution_count": 31,
      "outputs": []
    },
    {
      "cell_type": "markdown",
      "metadata": {
        "id": "wVvLcN24HUOj"
      },
      "source": [
        ""
      ]
    },
    {
      "cell_type": "code",
      "metadata": {
        "colab": {
          "base_uri": "https://localhost:8080/"
        },
        "id": "sS7ldqHO-hL6",
        "outputId": "49f301f5-faf4-409c-863b-d10f49879d15"
      },
      "source": [
        "prediction_from_image('text1.jpg') "
      ],
      "execution_count": 27,
      "outputs": [
        {
          "output_type": "stream",
          "text": [
            "CUDA not available - defaulting to CPU. Note: This module is much faster with a GPU.\n"
          ],
          "name": "stderr"
        },
        {
          "output_type": "stream",
          "text": [
            "English\n"
          ],
          "name": "stdout"
        }
      ]
    },
    {
      "cell_type": "markdown",
      "metadata": {
        "id": "nV7P9V9rHVBS"
      },
      "source": [
        ""
      ]
    },
    {
      "cell_type": "code",
      "metadata": {
        "colab": {
          "base_uri": "https://localhost:8080/"
        },
        "id": "2Wo0z_Rb-FTI",
        "outputId": "6e0e552b-5d73-4421-b7dd-4791fd4bcb62"
      },
      "source": [
        "prediction_from_image('text2.jpg') "
      ],
      "execution_count": 28,
      "outputs": [
        {
          "output_type": "stream",
          "text": [
            "CUDA not available - defaulting to CPU. Note: This module is much faster with a GPU.\n"
          ],
          "name": "stderr"
        },
        {
          "output_type": "stream",
          "text": [
            "Hindi\n"
          ],
          "name": "stdout"
        }
      ]
    },
    {
      "cell_type": "markdown",
      "metadata": {
        "id": "FtXqssGcHVmS"
      },
      "source": [
        ""
      ]
    },
    {
      "cell_type": "code",
      "metadata": {
        "colab": {
          "base_uri": "https://localhost:8080/"
        },
        "id": "9juzUpb0mR4n",
        "outputId": "b2d18704-a2b8-4df9-c3dc-34407f32601c"
      },
      "source": [
        "prediction_from_image('text3.jpg') "
      ],
      "execution_count": 32,
      "outputs": [
        {
          "output_type": "stream",
          "text": [
            "CUDA not available - defaulting to CPU. Note: This module is much faster with a GPU.\n"
          ],
          "name": "stderr"
        },
        {
          "output_type": "stream",
          "text": [
            "French\n"
          ],
          "name": "stdout"
        }
      ]
    },
    {
      "cell_type": "markdown",
      "metadata": {
        "id": "MRTryPPqHWEp"
      },
      "source": [
        ""
      ]
    }
  ]
}